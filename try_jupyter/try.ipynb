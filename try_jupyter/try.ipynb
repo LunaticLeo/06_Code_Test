{
 "cells": [
  {
   "cell_type": "code",
   "execution_count": 17,
   "id": "5dc88824",
   "metadata": {},
   "outputs": [
    {
     "name": "stdout",
     "output_type": "stream",
     "text": [
      "{4: ['a', 6, 'b', 8]}\n",
      "{4: ['a', 6, 'b', 8, 'a', 10, 'b', 12]}\n"
     ]
    }
   ],
   "source": [
    "class aa:\n",
    "    def __init__(self):\n",
    "        self.dic = {}\n",
    "        \n",
    "    def check_in(self,id,stationName,time):\n",
    "        if id not in self.dic.keys():\n",
    "            self.dic[id] = []\n",
    "        self.dic[id].append(stationName)\n",
    "        self.dic[id].append(time)\n",
    "        \n",
    "    def check_out(self,id,stationName,time):\n",
    "        self.dic[id].append(stationName)\n",
    "        self.dic[id].append(time)\n",
    "        print(self.dic)\n",
    "\n",
    "    def get_average_time(self,stationName,stationName2):\n",
    "        \n",
    "        sum = 0\n",
    "        num = 0\n",
    "        \n",
    "        for key in self.dic:\n",
    "            print(key)\n",
    "            print(self.dic[key])\n",
    "            \n",
    "            for i in range(0,len(self.dic[key]),4):\n",
    "                if(self.dic[key][i]==stationName and self.dic[key][i+2] ==stationName2):\n",
    "                    sum += self.dic[key][i+3] -self.dic[key][i+1]\n",
    "                    num += 1\n",
    "                    \n",
    "        return sum/num\n",
    "        \n",
    "aaa = aa()\n",
    "aaa.check_in(4,\"a\",6)\n",
    "aaa.check_out(4,\"b\",8)\n",
    "\n",
    "aaa.check_in(5,\"a\",10)\n",
    "aaa.check_out(5,\"b\",12)"
   ]
  },
  {
   "cell_type": "code",
   "execution_count": 13,
   "id": "05f39eb3",
   "metadata": {},
   "outputs": [
    {
     "name": "stdout",
     "output_type": "stream",
     "text": [
      "0\n",
      "2\n",
      "4\n",
      "6\n",
      "8\n"
     ]
    }
   ],
   "source": [
    "for i in range(0,10,4):\n",
    "    print(i)"
   ]
  },
  {
   "cell_type": "code",
   "execution_count": null,
   "id": "bdd6d94c",
   "metadata": {},
   "outputs": [],
   "source": []
  },
  {
   "cell_type": "code",
   "execution_count": 159,
   "id": "d44fad06",
   "metadata": {},
   "outputs": [
    {
     "ename": "TypeError",
     "evalue": "<lambda>() takes 1 positional argument but 4 were given",
     "output_type": "error",
     "traceback": [
      "\u001b[1;31m---------------------------------------------------------------------------\u001b[0m",
      "\u001b[1;31mTypeError\u001b[0m                                 Traceback (most recent call last)",
      "\u001b[1;32m~\\AppData\\Local\\Temp/ipykernel_12720/2067982059.py\u001b[0m in \u001b[0;36m<module>\u001b[1;34m\u001b[0m\n\u001b[0;32m      1\u001b[0m \u001b[0mfunc\u001b[0m \u001b[1;33m=\u001b[0m \u001b[1;32mlambda\u001b[0m \u001b[0mx\u001b[0m\u001b[1;33m:\u001b[0m\u001b[0mx\u001b[0m\u001b[1;33m[\u001b[0m\u001b[1;36m0\u001b[0m\u001b[1;33m]\u001b[0m\u001b[1;33m+\u001b[0m\u001b[0mx\u001b[0m\u001b[1;33m[\u001b[0m\u001b[1;36m1\u001b[0m\u001b[1;33m]\u001b[0m\u001b[1;33m\u001b[0m\u001b[1;33m\u001b[0m\u001b[0m\n\u001b[1;32m----> 2\u001b[1;33m \u001b[0mprint\u001b[0m\u001b[1;33m(\u001b[0m\u001b[0mfunc\u001b[0m\u001b[1;33m(\u001b[0m\u001b[1;36m0\u001b[0m\u001b[1;33m,\u001b[0m\u001b[1;36m1\u001b[0m\u001b[1;33m,\u001b[0m\u001b[1;36m2\u001b[0m\u001b[1;33m,\u001b[0m\u001b[1;36m3\u001b[0m\u001b[1;33m)\u001b[0m\u001b[1;33m)\u001b[0m\u001b[1;33m\u001b[0m\u001b[1;33m\u001b[0m\u001b[0m\n\u001b[0m",
      "\u001b[1;31mTypeError\u001b[0m: <lambda>() takes 1 positional argument but 4 were given"
     ]
    }
   ],
   "source": [
    "func = lambda x:x[0]+x[1]\n",
    "print(func(0,1,2,3))"
   ]
  },
  {
   "cell_type": "code",
   "execution_count": 162,
   "id": "5004090f",
   "metadata": {},
   "outputs": [
    {
     "name": "stdout",
     "output_type": "stream",
     "text": [
      "aaa 30\n"
     ]
    }
   ],
   "source": [
    "a=10\n",
    "b=20\n",
    "print(\"aaa {result}\".format(result = a+b))"
   ]
  },
  {
   "cell_type": "code",
   "execution_count": 175,
   "id": "5033207e",
   "metadata": {},
   "outputs": [
    {
     "name": "stdout",
     "output_type": "stream",
     "text": [
      "[2, 5, 4, 3, 2, 1]\n"
     ]
    }
   ],
   "source": [
    "class aa:\n",
    "    size = 0\n",
    "    def __init__(self,size):\n",
    "        self.size = size"
   ]
  }
 ],
 "metadata": {
  "kernelspec": {
   "display_name": "Python 3 (ipykernel)",
   "language": "python",
   "name": "python3"
  },
  "language_info": {
   "codemirror_mode": {
    "name": "ipython",
    "version": 3
   },
   "file_extension": ".py",
   "mimetype": "text/x-python",
   "name": "python",
   "nbconvert_exporter": "python",
   "pygments_lexer": "ipython3",
   "version": "3.9.7"
  }
 },
 "nbformat": 4,
 "nbformat_minor": 5
}
