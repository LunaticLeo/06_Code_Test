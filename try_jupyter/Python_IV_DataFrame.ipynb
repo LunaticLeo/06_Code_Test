{
 "cells": [
  {
   "cell_type": "markdown",
   "metadata": {},
   "source": [
    "# <center>Pandas DataFrames</center>\n",
    "References:\n",
    "* https://pandas.pydata.org/pandas-docs/stable/10min.html"
   ]
  },
  {
   "cell_type": "markdown",
   "metadata": {},
   "source": [
    "## 3. Pandas package and DataFrame\n",
    "- Next to Numpy, Pandas is one of the most widely used Python library\n",
    "- Two commonly used data structures:\n",
    "  * **Series**: a one-dimensional labeled array\n",
    "  * **DataFrame**: two-dimensional labeled data structure with columns\n",
    "- Labeling\n",
    "  * **index**: the name of each row\n",
    "  * **column name**: the name of each column\n",
    "- Data Frames behave very similar to your Excel tables"
   ]
  },
  {
   "cell_type": "markdown",
   "metadata": {},
   "source": [
    "### 3.1 Creating DataFrames and viewing data\n",
    "- Dataframes can be created from \n",
    "  * lists\n",
    "  * numpy arrays\n",
    "  * dictionaries"
   ]
  },
  {
   "cell_type": "code",
   "execution_count": null,
   "metadata": {},
   "outputs": [],
   "source": [
    "# enable interactiveShell\n",
    "# so that Jupyter will display variables or \n",
    "# unassigned output of a statemen \n",
    "# without the need for a print statement\n",
    "\n",
    "from IPython.core.interactiveshell import InteractiveShell\n",
    "InteractiveShell.ast_node_interactivity = \"all\"\n",
    "\n",
    "import pandas as pd\n",
    "\n",
    "pd.options.display.float_format = '{:,.2f}'.format"
   ]
  },
  {
   "cell_type": "code",
   "execution_count": null,
   "metadata": {},
   "outputs": [],
   "source": [
    "# Exercise 3.1.1 Create a Pandas series\n",
    "\n",
    "\n",
    "# create a series from a list \n",
    "# or a one-dimensional array\n",
    "s=pd.Series(['01','02','10','50','30'])\n",
    "s"
   ]
  },
  {
   "cell_type": "code",
   "execution_count": 18,
   "metadata": {},
   "outputs": [
    {
     "data": {
      "text/html": [
       "<div>\n",
       "<style scoped>\n",
       "    .dataframe tbody tr th:only-of-type {\n",
       "        vertical-align: middle;\n",
       "    }\n",
       "\n",
       "    .dataframe tbody tr th {\n",
       "        vertical-align: top;\n",
       "    }\n",
       "\n",
       "    .dataframe thead th {\n",
       "        text-align: right;\n",
       "    }\n",
       "</style>\n",
       "<table border=\"1\" class=\"dataframe\">\n",
       "  <thead>\n",
       "    <tr style=\"text-align: right;\">\n",
       "      <th></th>\n",
       "      <th>A</th>\n",
       "      <th>B</th>\n",
       "      <th>C</th>\n",
       "      <th>D</th>\n",
       "    </tr>\n",
       "  </thead>\n",
       "  <tbody>\n",
       "    <tr>\n",
       "      <th>01</th>\n",
       "      <td>68</td>\n",
       "      <td>93</td>\n",
       "      <td>86</td>\n",
       "      <td>77</td>\n",
       "    </tr>\n",
       "    <tr>\n",
       "      <th>02</th>\n",
       "      <td>96</td>\n",
       "      <td>79</td>\n",
       "      <td>70</td>\n",
       "      <td>71</td>\n",
       "    </tr>\n",
       "    <tr>\n",
       "      <th>10</th>\n",
       "      <td>63</td>\n",
       "      <td>72</td>\n",
       "      <td>88</td>\n",
       "      <td>77</td>\n",
       "    </tr>\n",
       "    <tr>\n",
       "      <th>50</th>\n",
       "      <td>62</td>\n",
       "      <td>70</td>\n",
       "      <td>78</td>\n",
       "      <td>72</td>\n",
       "    </tr>\n",
       "    <tr>\n",
       "      <th>30</th>\n",
       "      <td>84</td>\n",
       "      <td>73</td>\n",
       "      <td>76</td>\n",
       "      <td>71</td>\n",
       "    </tr>\n",
       "  </tbody>\n",
       "</table>\n",
       "</div>"
      ],
      "text/plain": [
       "     A   B   C   D\n",
       "01  68  93  86  77\n",
       "02  96  79  70  71\n",
       "10  63  72  88  77\n",
       "50  62  70  78  72\n",
       "30  84  73  76  71"
      ]
     },
     "execution_count": 18,
     "metadata": {},
     "output_type": "execute_result"
    },
    {
     "data": {
      "text/html": [
       "<div>\n",
       "<style scoped>\n",
       "    .dataframe tbody tr th:only-of-type {\n",
       "        vertical-align: middle;\n",
       "    }\n",
       "\n",
       "    .dataframe tbody tr th {\n",
       "        vertical-align: top;\n",
       "    }\n",
       "\n",
       "    .dataframe thead th {\n",
       "        text-align: right;\n",
       "    }\n",
       "</style>\n",
       "<table border=\"1\" class=\"dataframe\">\n",
       "  <thead>\n",
       "    <tr style=\"text-align: right;\">\n",
       "      <th></th>\n",
       "      <th>A</th>\n",
       "      <th>B</th>\n",
       "      <th>C</th>\n",
       "      <th>D</th>\n",
       "    </tr>\n",
       "  </thead>\n",
       "  <tbody>\n",
       "    <tr>\n",
       "      <th>01</th>\n",
       "      <td>68</td>\n",
       "      <td>93</td>\n",
       "      <td>86</td>\n",
       "      <td>77</td>\n",
       "    </tr>\n",
       "    <tr>\n",
       "      <th>02</th>\n",
       "      <td>96</td>\n",
       "      <td>79</td>\n",
       "      <td>70</td>\n",
       "      <td>71</td>\n",
       "    </tr>\n",
       "  </tbody>\n",
       "</table>\n",
       "</div>"
      ],
      "text/plain": [
       "     A   B   C   D\n",
       "01  68  93  86  77\n",
       "02  96  79  70  71"
      ]
     },
     "execution_count": 18,
     "metadata": {},
     "output_type": "execute_result"
    },
    {
     "data": {
      "text/html": [
       "<div>\n",
       "<style scoped>\n",
       "    .dataframe tbody tr th:only-of-type {\n",
       "        vertical-align: middle;\n",
       "    }\n",
       "\n",
       "    .dataframe tbody tr th {\n",
       "        vertical-align: top;\n",
       "    }\n",
       "\n",
       "    .dataframe thead th {\n",
       "        text-align: right;\n",
       "    }\n",
       "</style>\n",
       "<table border=\"1\" class=\"dataframe\">\n",
       "  <thead>\n",
       "    <tr style=\"text-align: right;\">\n",
       "      <th></th>\n",
       "      <th>A</th>\n",
       "      <th>B</th>\n",
       "      <th>C</th>\n",
       "      <th>D</th>\n",
       "    </tr>\n",
       "  </thead>\n",
       "  <tbody>\n",
       "    <tr>\n",
       "      <th>10</th>\n",
       "      <td>63</td>\n",
       "      <td>72</td>\n",
       "      <td>88</td>\n",
       "      <td>77</td>\n",
       "    </tr>\n",
       "    <tr>\n",
       "      <th>50</th>\n",
       "      <td>62</td>\n",
       "      <td>70</td>\n",
       "      <td>78</td>\n",
       "      <td>72</td>\n",
       "    </tr>\n",
       "    <tr>\n",
       "      <th>30</th>\n",
       "      <td>84</td>\n",
       "      <td>73</td>\n",
       "      <td>76</td>\n",
       "      <td>71</td>\n",
       "    </tr>\n",
       "  </tbody>\n",
       "</table>\n",
       "</div>"
      ],
      "text/plain": [
       "     A   B   C   D\n",
       "10  63  72  88  77\n",
       "50  62  70  78  72\n",
       "30  84  73  76  71"
      ]
     },
     "execution_count": 18,
     "metadata": {},
     "output_type": "execute_result"
    },
    {
     "data": {
      "text/plain": [
       "01    68\n",
       "02    96\n",
       "10    63\n",
       "50    62\n",
       "30    84\n",
       "Name: A, dtype: int32"
      ]
     },
     "execution_count": 18,
     "metadata": {},
     "output_type": "execute_result"
    },
    {
     "data": {
      "text/plain": [
       "01    68\n",
       "02    96\n",
       "10    63\n",
       "50    62\n",
       "30    84\n",
       "Name: A, dtype: int32"
      ]
     },
     "execution_count": 18,
     "metadata": {},
     "output_type": "execute_result"
    },
    {
     "data": {
      "text/plain": [
       "pandas.core.series.Series"
      ]
     },
     "execution_count": 18,
     "metadata": {},
     "output_type": "execute_result"
    }
   ],
   "source": [
    "# Exercise 3.1.2 Create a Pandas dataframe\n",
    "\n",
    "import numpy as np\n",
    "\n",
    "# create a dataframe from a random array\n",
    "# note the labels for rows (index) and columns names\n",
    "df = pd.DataFrame(np.random.randint(60,100, (5,4)), \\\n",
    "                  index=s, columns=['A','B','C','D'])\n",
    "df\n",
    "# get first two rows\n",
    "df.head(2)\n",
    "\n",
    "# get last three rows\n",
    "df.tail(3)\n",
    "\n",
    "# get a column \n",
    "df.A  # OR df['A']\n",
    "df['A']\n",
    "# a column is a series with same indexes\n",
    "\n",
    "type(df.A)"
   ]
  },
  {
   "cell_type": "code",
   "execution_count": 17,
   "metadata": {},
   "outputs": [
    {
     "data": {
      "text/html": [
       "<div>\n",
       "<style scoped>\n",
       "    .dataframe tbody tr th:only-of-type {\n",
       "        vertical-align: middle;\n",
       "    }\n",
       "\n",
       "    .dataframe tbody tr th {\n",
       "        vertical-align: top;\n",
       "    }\n",
       "\n",
       "    .dataframe thead th {\n",
       "        text-align: right;\n",
       "    }\n",
       "</style>\n",
       "<table border=\"1\" class=\"dataframe\">\n",
       "  <thead>\n",
       "    <tr style=\"text-align: right;\">\n",
       "      <th></th>\n",
       "      <th>A</th>\n",
       "      <th>B</th>\n",
       "      <th>C</th>\n",
       "      <th>D</th>\n",
       "      <th>DEPT</th>\n",
       "    </tr>\n",
       "  </thead>\n",
       "  <tbody>\n",
       "    <tr>\n",
       "      <th>01</th>\n",
       "      <td>75</td>\n",
       "      <td>74</td>\n",
       "      <td>97</td>\n",
       "      <td>84</td>\n",
       "      <td>CS</td>\n",
       "    </tr>\n",
       "    <tr>\n",
       "      <th>02</th>\n",
       "      <td>69</td>\n",
       "      <td>60</td>\n",
       "      <td>74</td>\n",
       "      <td>92</td>\n",
       "      <td>BIA</td>\n",
       "    </tr>\n",
       "    <tr>\n",
       "      <th>10</th>\n",
       "      <td>64</td>\n",
       "      <td>77</td>\n",
       "      <td>88</td>\n",
       "      <td>84</td>\n",
       "      <td>IS</td>\n",
       "    </tr>\n",
       "    <tr>\n",
       "      <th>50</th>\n",
       "      <td>88</td>\n",
       "      <td>67</td>\n",
       "      <td>92</td>\n",
       "      <td>93</td>\n",
       "      <td>BIA</td>\n",
       "    </tr>\n",
       "    <tr>\n",
       "      <th>30</th>\n",
       "      <td>62</td>\n",
       "      <td>85</td>\n",
       "      <td>65</td>\n",
       "      <td>96</td>\n",
       "      <td>BIA</td>\n",
       "    </tr>\n",
       "  </tbody>\n",
       "</table>\n",
       "</div>"
      ],
      "text/plain": [
       "     A   B   C   D DEPT\n",
       "01  75  74  97  84   CS\n",
       "02  69  60  74  92  BIA\n",
       "10  64  77  88  84   IS\n",
       "50  88  67  92  93  BIA\n",
       "30  62  85  65  96  BIA"
      ]
     },
     "execution_count": 17,
     "metadata": {},
     "output_type": "execute_result"
    }
   ],
   "source": [
    "# Exercise 3.1.3. add new columns\n",
    "\n",
    "# add a new column \"E\"\n",
    "df[\"DEPT\"]=['CS','BIA','IS','BIA','BIA']\n",
    "df"
   ]
  },
  {
   "cell_type": "code",
   "execution_count": 16,
   "metadata": {},
   "outputs": [
    {
     "name": "stdout",
     "output_type": "stream",
     "text": [
      "df index\n"
     ]
    },
    {
     "data": {
      "text/plain": [
       "Index(['01', '02', '10', '50', '30'], dtype='object')"
      ]
     },
     "execution_count": 16,
     "metadata": {},
     "output_type": "execute_result"
    },
    {
     "name": "stdout",
     "output_type": "stream",
     "text": [
      "\n",
      "df column names\n"
     ]
    },
    {
     "data": {
      "text/plain": [
       "Index(['A', 'B', 'C', 'D'], dtype='object')"
      ]
     },
     "execution_count": 16,
     "metadata": {},
     "output_type": "execute_result"
    },
    {
     "name": "stdout",
     "output_type": "stream",
     "text": [
      "\n",
      "df values\n"
     ]
    },
    {
     "data": {
      "text/plain": [
       "array([[75, 74, 97, 84],\n",
       "       [69, 60, 74, 92],\n",
       "       [64, 77, 88, 84],\n",
       "       [88, 67, 92, 93],\n",
       "       [62, 85, 65, 96]])"
      ]
     },
     "execution_count": 16,
     "metadata": {},
     "output_type": "execute_result"
    },
    {
     "data": {
      "text/plain": [
       "numpy.ndarray"
      ]
     },
     "execution_count": 16,
     "metadata": {},
     "output_type": "execute_result"
    },
    {
     "data": {
      "text/plain": [
       "(5, 4)"
      ]
     },
     "execution_count": 16,
     "metadata": {},
     "output_type": "execute_result"
    },
    {
     "data": {
      "text/plain": [
       "(5, 4)"
      ]
     },
     "execution_count": 16,
     "metadata": {},
     "output_type": "execute_result"
    }
   ],
   "source": [
    "# Exercise 3.1.4. View DataFrame index, columns, and values\n",
    "\n",
    "# df index\n",
    "print(\"df index\")\n",
    "df.index\n",
    "\n",
    "print(\"\\ndf column names\")\n",
    "df.columns\n",
    "\n",
    "print(\"\\ndf values\")\n",
    "df.values\n",
    "type(df.values) # values are numpy array\n",
    "df.values.shape # shape of the array\n",
    "\n",
    "df.shape"
   ]
  },
  {
   "cell_type": "code",
   "execution_count": null,
   "metadata": {},
   "outputs": [],
   "source": [
    "# Exercise 3.1.5. Show statistics of each column\n",
    "\n",
    "df.describe()\n",
    "df.describe().A\n",
    "\n",
    "# the statistics is also a dataframe"
   ]
  },
  {
   "cell_type": "code",
   "execution_count": null,
   "metadata": {},
   "outputs": [],
   "source": [
    "# Exercise 3.1.6. Transporting dataframe\n",
    "\n",
    "df.T\n"
   ]
  },
  {
   "cell_type": "code",
   "execution_count": null,
   "metadata": {},
   "outputs": [],
   "source": [
    "# Exercise 3.1.7. Create a dataframe\n",
    "\n",
    "x=[(1, 0.8, 'NJ'), (3, 0.7, 'NY'), (2, 0.65, 'PA'),(3, 0.25, 'PA'), \\\n",
    "   (2, 0.32, 'NJ'),(4, 0.95, 'PA'),(1, 0.44, 'NY'), (4, 0.15, 'NY')]\n",
    "\n",
    "# Create a dataframe from the list of tuples \n",
    "# (quarter, income, state)\n",
    "\n",
    "\n",
    "# show statistics of income column\n"
   ]
  },
  {
   "cell_type": "markdown",
   "metadata": {},
   "source": [
    "### 3.2. DataFrame Sorting\n",
    "- Dataframes can be sorted by\n",
    "  * index\n",
    "  * one or more columns"
   ]
  },
  {
   "cell_type": "code",
   "execution_count": null,
   "metadata": {},
   "outputs": [],
   "source": [
    "# Exercise 3.2.1. Sorting\n",
    "\n",
    "# sort by index\n",
    "df\n",
    "print(\"sort by index labels\")\n",
    "df.sort_index(axis=0, ascending=False)\n",
    "\n",
    "# sort by column names\n",
    "print(\"\\nsort by column names\")\n",
    "df.sort_index(axis=1, ascending=False)"
   ]
  },
  {
   "cell_type": "code",
   "execution_count": null,
   "metadata": {},
   "outputs": [],
   "source": [
    "# sort the values by specifc columns\n",
    "# to sort by A  use by='A'\n",
    "# for multiple columns, use a list\n",
    "print(\"\\n1. Sort the values by column A\")\n",
    "df.sort_values(by='A', ascending=False)\n",
    "\n",
    "print(\"\\n2. Sort the values by columns DEPT and A\")\n",
    "df.sort_values(by=['DEPT','A'], ascending=[True, False])"
   ]
  },
  {
   "cell_type": "code",
   "execution_count": null,
   "metadata": {},
   "outputs": [],
   "source": [
    "# Exercise 3.2.2. Sort the values in the \n",
    "# dataframe you created in 3.1.7\n",
    "# first by state in ascending order, \n",
    "# then by quarter in decending order\n",
    "\n",
    "x=[(1, 0.8, 'NJ'), (3, 0.7, 'NY'), (2, 0.65, 'PA'),(3, 0.25, 'PA'), \\\n",
    "   (2, 0.32, 'NJ'),(4, 0.95, 'PA'),(1, 0.44, 'NY'), (4, 0.15, 'NY')]\n",
    "\n"
   ]
  },
  {
   "cell_type": "markdown",
   "metadata": {},
   "source": [
    "### 3.3 Value Selection\n",
    "- Values can be selected by\n",
    "  * column names\n",
    "  * index labels (**loc** property)\n",
    "  * index position (**iloc** property)\n",
    "  * indexes and columns together\n",
    "  * conditions (boolean index)"
   ]
  },
  {
   "cell_type": "code",
   "execution_count": null,
   "metadata": {},
   "outputs": [],
   "source": [
    "# Exercise 3.3.1 Selecting columns\n",
    "\n",
    "# get a specifc column\n",
    "print(\"1. Get a specifc column\")\n",
    "df['A']\n",
    "df.A\n",
    "\n",
    "# get multiple columns\n",
    "print(\"\\n2. Get multiple columns\")\n",
    "df[['A','C']]"
   ]
  },
  {
   "cell_type": "code",
   "execution_count": null,
   "metadata": {},
   "outputs": [],
   "source": [
    "# Exercise 3.3.2 select rows by index\n",
    "\n",
    "# get a specific row by index\n",
    "print(\"1. Get first row by index label\")\n",
    "df.loc['01']\n",
    "\n",
    "# get multiple rows by index list\n",
    "print(\"2. Get multiple rows by index list\")\n",
    "df.loc[['01','10']]\n",
    "\n"
   ]
  },
  {
   "cell_type": "code",
   "execution_count": null,
   "metadata": {},
   "outputs": [],
   "source": [
    "# Exercise 3.3.3. select rows by position\n",
    "\n",
    "# select the first row by position\n",
    "print(\"1. Select the first row by position\")\n",
    "df.iloc[0]\n",
    "\n",
    "# select the first two rows by position\n",
    "print(\"2. Select the first two rows by position list\")\n",
    "df.iloc[0:2]\n"
   ]
  },
  {
   "cell_type": "code",
   "execution_count": null,
   "metadata": {},
   "outputs": [],
   "source": [
    "# Exercise 3.3.4. select on multiple axes\n",
    "\n",
    "# select the 1st and 3rd row, 3rd and 4th columns\n",
    "\n",
    "df.loc[['01','10'], ['C','D']]\n",
    "df.iloc[[0,2], 2:4]\n",
    "\n",
    "# however, when you iloc, don't use column names, e.g.\n",
    "# df.iloc[[0,2], ['C','D']]"
   ]
  },
  {
   "cell_type": "code",
   "execution_count": null,
   "metadata": {},
   "outputs": [],
   "source": [
    "# Exercise 3.3.5. \n",
    "\n",
    "# Select last three rows, 2nd and 5th columns\n"
   ]
  },
  {
   "cell_type": "code",
   "execution_count": null,
   "metadata": {},
   "outputs": [],
   "source": [
    "# Exercise 3.3.6. Select by condition (Boolean index)\n",
    "\n",
    "# get data greater than 70\n",
    "print(\"Get data where column A is greater than 70\")\n",
    "df.A>70\n",
    "df[df.A>70]\n",
    "\n",
    "# get data where A>70 and DEPT='BIA'\n",
    "# ***don't forget the parentheses () around each condition****\n",
    "# also note \"&\", not \"and\"\n",
    "print(\"Get data where A>70 and DEPT='BIA'\")\n",
    "df[(df.A>70) & (df.DEPT=='BIA')]\n",
    "\n",
    "# See what you get if ignore \"()\" around the condition\n",
    "#df[df.A>70 & df.DEPT=='BIA']\n",
    "\n",
    "# condition on index \n",
    "# note the **isin** function to select a range\n",
    "print(\"Rows with index in ['01','10','20'] and B>0\")\n",
    "df[(df.index.isin(['01','10','20'])) & (df.B>70)]"
   ]
  },
  {
   "cell_type": "markdown",
   "metadata": {},
   "source": [
    "### Rules of selecting subsets from dataframes using [ ]  \n",
    "reference: https://medium.com/dunder-data/selecting-subsets-of-data-in-pandas-39e811c81a0c\n",
    "* string — return a column as a Series, e.g. df['A']\n",
    "* list of strings — return all those columns as a DataFrame, e.g. df[['A','B']]\n",
    "* a slice — select rows (can do both label and integer location — confusing!), e.g. df.loc or df.iloc\n",
    "* a sequence of booleans — select all rows where True, e.g. df[(df.A>70) & (df.DEPT=='BIA')]"
   ]
  },
  {
   "cell_type": "markdown",
   "metadata": {},
   "source": [
    "### More about dataframe selection\n",
    "- Multi-index: \n",
    "    - use `loc[(`one`, `two`)]` \n",
    "    - use `xs('two', level ='second')`\n",
    "- Boolean index with conditions\n",
    "    - If a condition return True/False on **index**, you can use it within `.loc` select rows\n",
    "    - If a condition return True/False on **column names**, you can use it within `.loc` select columns"
   ]
  },
  {
   "cell_type": "code",
   "execution_count": null,
   "metadata": {},
   "outputs": [],
   "source": [
    "x=[(2016, 1, 0.8, 'NJ'), (2017, 1, 0.7, 'NY'), (2016, 2, 0.65, 'PA'),(2016, 1, 0.25, 'PA'), \\\n",
    "   (2016, 2, 0.32, 'NJ'),(2017, 3, 0.95, 'PA'),(2017, 1, 0.44, 'NY'), (2017, 2, 0.15, 'NY')]\n",
    "\n",
    "x = pd.DataFrame(x, columns = ['Year','Quarter','Income','State'])\n",
    "\n",
    "x.head()\n",
    "# create multi-index \n",
    "x1 = x.groupby(['State','Year'])['Income'].mean()\n",
    "x1"
   ]
  },
  {
   "cell_type": "code",
   "execution_count": null,
   "metadata": {},
   "outputs": [],
   "source": [
    "# Select by multiple index\n",
    "x1.loc[('NJ',2016)]\n",
    "\n",
    "# select by xs\n",
    "x1.xs(2016, level ='Year')"
   ]
  },
  {
   "cell_type": "code",
   "execution_count": null,
   "metadata": {},
   "outputs": [],
   "source": [
    "# selection by condition\n",
    "\n",
    "x = pd.DataFrame([[np.nan, 2, np.nan, 0], [3, 4, 6, 1],\n",
    "                   [np.nan, np.nan, np.nan, 5], [5, 8, 2, 5]],\n",
    "                   columns=list('ABCD'))\n",
    "\n",
    "# check missing values\n",
    "x1 = x.isnull()\n",
    "x1\n"
   ]
  },
  {
   "cell_type": "code",
   "execution_count": null,
   "metadata": {},
   "outputs": [],
   "source": [
    "# find rows that contain any missing values\n",
    "\n",
    "c1 = x1.any(axis = 1)\n",
    "c1    # Note c1 returns True/False on indexes\n",
    "\n",
    "x1.loc[c1, :]  \n"
   ]
  },
  {
   "cell_type": "code",
   "execution_count": null,
   "metadata": {},
   "outputs": [],
   "source": [
    "# # find columns that contain any missing values\n",
    "\n",
    "c2 = x1.any(axis = 0)\n",
    "c2   # Note c2 return True/False on column names\n",
    "\n",
    "x1.loc[:, c2]"
   ]
  },
  {
   "cell_type": "code",
   "execution_count": null,
   "metadata": {},
   "outputs": [],
   "source": [
    "# Exercise 3.3.6. From the dataframe you created in 3.1.7\n",
    "# 1. select the rows for states NJ and NY and income>0.5\n",
    "\n",
    "\n",
    "x=[(1, 0.8, 'NJ'), (3, 0.7, 'NY'), (2, 0.65, 'PA'),(3, 0.25, 'PA'), \\\n",
    "   (2, 0.32, 'NJ'),(4, 0.95, 'PA'),(1, 0.44, 'NY'), (4, 0.15, 'NY')]\n"
   ]
  },
  {
   "cell_type": "markdown",
   "metadata": {},
   "source": [
    "### 3.4.  Aggregation \n",
    "- Dataframes can support aggregation by groups very flexibly\n",
    "  * count\n",
    "  * mean\n",
    "  * sum\n",
    "  * custom function"
   ]
  },
  {
   "cell_type": "code",
   "execution_count": null,
   "metadata": {},
   "outputs": [],
   "source": [
    "# Exercise 3.4.1 value counts \n",
    "# get counts of each value in a column\n",
    "df\n",
    "df.DEPT.value_counts()"
   ]
  },
  {
   "cell_type": "code",
   "execution_count": null,
   "metadata": {},
   "outputs": [],
   "source": [
    "# Exercise 3.4.2 group by a column and aggregate\n",
    "\n",
    "grouped=df.groupby('DEPT')\n",
    "grouped.size()  # get number of rows in each group\n",
    "grouped.sum()   # sum by group\n",
    "grouped.mean()  # mean by group"
   ]
  },
  {
   "cell_type": "code",
   "execution_count": null,
   "metadata": {},
   "outputs": [],
   "source": [
    "# Exercise 3.4.3 multiple aggregation function\n",
    "\n",
    "grouped= df.groupby('DEPT')\n",
    "grouped['A'].agg([ np.sum, np.mean, np.std, np.argmax])"
   ]
  },
  {
   "cell_type": "code",
   "execution_count": null,
   "metadata": {},
   "outputs": [],
   "source": [
    "# Exercise 3.4.4 grouped by multiple columns \n",
    "\n",
    "df['PRG']=['graduate','undergraduate','undergraduate',\\\n",
    "           'graduate','graduate']\n",
    "\n",
    "df\n",
    "grouped= df.groupby(['DEPT','PRG'])\n",
    "grouped.mean()\n",
    "\n",
    "# note that the groupby columns are \n",
    "# indexes now\n",
    "\n",
    "# to remove multi-indexes\n",
    "grouped.mean().reset_index()\n"
   ]
  },
  {
   "cell_type": "markdown",
   "metadata": {},
   "source": [
    "### 3.5.  Pivot Table and Cross Tabulation\n",
    "- Pivot tables or cross tables can be computed easily with pandas\n",
    "- pivot_table: Calculate pivot tables from a data frame\n",
    "- crosstab: cross tabulation using any array-like objects (e.g. array, dataframe) \n",
    "- Difference between functions pivot_table and cross tabulation\n",
    "  * pivot_table expects input data to be ** a DataFrame**; \n",
    "  * crosstab can use array-like data objects, not necessarily dataframes.\n",
    "  * for pivot_table, the default aggregation function is **mean**, while for crosstab, the default aggregation function is **count**\n",
    "- **pivot tables and cross tables are also dataframes**"
   ]
  },
  {
   "cell_type": "code",
   "execution_count": null,
   "metadata": {},
   "outputs": [],
   "source": [
    "# Exercise 3.5.1 Pivot table\n",
    "# for details, see https://pandas.pydata.org/pandas-docs/stable/generated/pandas.pivot_table.html\n",
    "\n",
    "# parameters: \n",
    "# data: data source, \n",
    "# values: columns to be aggregated, use a list for multiple columns\n",
    "# index: keys to group by as pivot table index (row)\n",
    "# column: keys to group by as pivot table column\n",
    "# aggfunc: aggregration function. default is mean\n",
    "\n",
    "# Get mean of column A for students in each DEPT and PRG\n",
    "pd.pivot_table(data=df, values=['A'], index='DEPT', \\\n",
    "               columns='PRG')\n",
    "\n",
    "# Pivot by multiple rows or columns\n",
    "\n",
    "# create a new column\n",
    "df[\"G\"]=['F','M','F','F','M']\n",
    "y = pd.pivot_table(data=df, values=['A'], \\\n",
    "    index=['DEPT','G'], columns=['PRG'], aggfunc=np.max)\n",
    "y\n",
    "y.describe()\n",
    "y.index\n",
    "\n"
   ]
  },
  {
   "cell_type": "code",
   "execution_count": null,
   "metadata": {},
   "outputs": [],
   "source": [
    "y\n",
    "y.loc[['BIA']]\n",
    "y.loc[(:,'F')]"
   ]
  },
  {
   "cell_type": "code",
   "execution_count": null,
   "metadata": {},
   "outputs": [],
   "source": [
    "# 3.5.2. Get a cross table from a dataframe\n",
    "\n",
    "# for details, check\n",
    "# https://pandas.pydata.org/pandas-docs/stable/generated/pandas.crosstab.html\n",
    "# parameters: \n",
    "\n",
    "# index: keys to group by as pivot table index (row)\n",
    "# columns: keys to group by as pivot table column\n",
    "# values: columns to be aggregated\n",
    "# aggfunc: aggregration function. default is count\n",
    "\n",
    "# count the students in each DEPT and each PRG\n",
    "pd.crosstab(index=df.DEPT, columns=df.PRG)\n",
    "\n",
    "# multiple index\n",
    "pd.crosstab(index=[df.DEPT, df.G], columns=df.PRG)\n",
    "\n",
    "# Mean of Course A for each DEPT and PRG\n",
    "pd.crosstab(index=df.DEPT, columns=[df.PRG], values=df.A, \\\n",
    "            aggfunc=np.mean )"
   ]
  },
  {
   "cell_type": "code",
   "execution_count": null,
   "metadata": {},
   "outputs": [],
   "source": [
    "# 3.5.3. Get a cross table from arrays \n",
    "x=np.array([[1,2,10],[3,4,8],[2,2,3],[3,1,4],[1,2,2]])\n",
    "x\n",
    "# count of cells by columns 1 and 2\n",
    "pd.crosstab(index=x[:,0], columns=x[:,1],\n",
    "           rownames=['col_1'], colnames=['col_2'])\n",
    "\n",
    "# sum of column 3 by columns 1 and 2\n",
    "pd.crosstab(index=x[:,0], columns=x[:,1], \\\n",
    "            values=x[:,2], aggfunc=np.sum, \\\n",
    "            rownames=['col_1'], colnames=['col_2'] )"
   ]
  },
  {
   "cell_type": "code",
   "execution_count": null,
   "metadata": {},
   "outputs": [],
   "source": [
    "# Exercise 3.5.4. group the dataframe you created in 3.1.7\n",
    "\n",
    "\n",
    "x=[(2016, 0.8, 'NJ'), (2017, 0.7, 'NY'), (2016, 0.65, 'PA'),(2016, 0.25, 'PA'), \\\n",
    "   (2016, 0.32, 'NJ'),(2017, 0.95, 'PA'),(2017, 0.44, 'NY'), (2017, 0.15, 'NY')]\n",
    "\n",
    "s=pd.DataFrame(x, columns=['year','income', 'state'])\n",
    "\n",
    "# 1. get the mean and std of income by each state and \n",
    "# flatten the index\n",
    "\n",
    "# 2. sum income by year and state in a pivot table\n",
    "\n",
    "# 3. get average of income by year and state in a cross/pivot \n",
    "# table\n"
   ]
  },
  {
   "cell_type": "markdown",
   "metadata": {},
   "source": [
    "### 3.6. Apply function to each row or each column of a dataframe\n",
    "- The apply function takes each row (axis=1) or each column (axis=0) of the dataframe as an input\n",
    "- Often **lambda** function (i.e. anonymous function, function without a name) is used\n",
    "   * lambda function: *<font color='green'>lambda x : expression of x </font>*\n",
    "   * it can be understood as: *<font color='green'> for x, return expression of x </font>*"
   ]
  },
  {
   "cell_type": "code",
   "execution_count": null,
   "metadata": {},
   "outputs": [],
   "source": [
    "# Exercise 3.6.1\n",
    "# Find the percentage of column A \n",
    "# in the sum of columns A-D for each row\n",
    "\n",
    "df['A_PERC']=df[['A','B','C','D']].apply(lambda row: \\\n",
    "        row['A']/(sum(row)), axis=1)\n",
    "df\n",
    "\n",
    "# or you can define a function explicitly\n",
    "def fun1(row):\n",
    "    return row[\"A\"]/(sum(row))\n",
    "\n",
    "df['A_PERC']=df[['A','B','C','D']].apply(fun1, axis=1)\n",
    "df['A_PERC']\n",
    "\n",
    "# how to normalize all columns?\n"
   ]
  },
  {
   "cell_type": "code",
   "execution_count": null,
   "metadata": {},
   "outputs": [],
   "source": [
    "# For each column, find the percentage of \n",
    "# each value in the sum of the column\n",
    "# i.e. normalize by column\n",
    "df1=df[['A','B','C','D']].apply(lambda col: col/sum(col),\\\n",
    "                                axis=0)\n",
    "\n",
    "df1\n",
    "\n",
    "# note the lambda function cannot be used \n",
    "# outside of the apply statement\n",
    "# you can also assign it to a variable \n",
    "# which is the function name!\n",
    "t=lambda x: x*2\n",
    "type(t)\n",
    "t(20)"
   ]
  },
  {
   "cell_type": "markdown",
   "metadata": {},
   "source": [
    "### 3.7.  DataFrame concatenate and join\n",
    "- Dataframes can flexibly concatenated or joined"
   ]
  },
  {
   "cell_type": "code",
   "execution_count": null,
   "metadata": {},
   "outputs": [],
   "source": [
    "# Exercise 3.7.1  Concatenate two dateframes\n",
    "df1 = pd.DataFrame(np.random.randint(0,10, size=(3,2)), \\\n",
    "                   columns=['A','B'])\n",
    "df1\n",
    "\n",
    "df2 = pd.DataFrame(np.random.randint(0,10, size=(4,2)), \\\n",
    "                   columns=['A','C'])\n",
    "df2\n",
    "\n",
    "# Concatenate two dataframes\n",
    "pd.concat([df1, df2])\n",
    "\n",
    "# the new dataframe will have columns A,B,C\n",
    "# but some portion is NaN (Null)"
   ]
  },
  {
   "cell_type": "code",
   "execution_count": null,
   "metadata": {},
   "outputs": [],
   "source": [
    "# Exercise 3.5.2  Merge two dataframes \n",
    "# on common columns\n",
    "df1\n",
    "df2\n",
    "pd.merge(df1, df2, on='A')\n",
    "\n",
    "# use \"on\" to join by a specific column\n",
    "# use \"how\" to specify inner or outer join"
   ]
  },
  {
   "cell_type": "markdown",
   "metadata": {},
   "source": [
    "### 3.8. Getting Data In/Out"
   ]
  },
  {
   "cell_type": "code",
   "execution_count": null,
   "metadata": {},
   "outputs": [],
   "source": [
    "# Exercise 3.8.1  getting data in/out \n",
    "\n",
    "# write dataframe to a csv with header without index\n",
    "df.to_csv('foo.csv', header=True, index=True)\n",
    "\n",
    "# read a csv file to a dataframe\n",
    "# use the first row as header\n",
    "data=pd.read_csv('foo.csv', header=0)\n",
    "data\n",
    "\n",
    "# convert data to a list\n",
    "data_list=data.values.tolist()\n",
    "data_list"
   ]
  },
  {
   "cell_type": "markdown",
   "metadata": {},
   "source": [
    "### Review Exercise\n",
    "\n",
    "1. Suppose your machine learning model returns a list of probabilities as the output. Write a function to do the following:\n",
    "    - Given a threshold, say $th$, if a probability > $th$, the prediction is positive; otherwise, negative\n",
    "    - Compare the prediction with the ground truth labels to calculate the confusion matrix as [[TN, FN],[FP,TP]], where:\n",
    "        * True Positives (TP): the number of correct positive predictions\n",
    "        * False Positives (FP): the number of postive predictives which actually are negatives\n",
    "        * True Negatives (TN): the number of correct negative predictions\n",
    "        * False Negatives (FN): the number of negative predictives which actually are positives\n",
    "    - Calculate precision as $TP/(TP+FP)$ and recall as $TP/(TP+FN)$\n",
    "    - return the confusion matrix, precision, and recall\n",
    "2. Call this function with $th$ varying from 0.05 to 1 with an increase of 0.05. Plot a line chart to see how precision and recall change by $th$"
   ]
  },
  {
   "cell_type": "code",
   "execution_count": null,
   "metadata": {},
   "outputs": [],
   "source": [
    "prob =np.array([0.28997326, 0.10166073, 0.10759583, 0.0694934 , 0.6767239 ,\n",
    "       0.01446897, 0.15268748, 0.15570522, 0.12159665, 0.22593857,\n",
    "       0.98162019, 0.47418329, 0.09376987, 0.80440782, 0.88361167,\n",
    "       0.21579844, 0.72343069, 0.06605903, 0.15447797, 0.10967575,\n",
    "       0.93020135, 0.06570391, 0.05283854, 0.09668829, 0.05974545,\n",
    "       0.04874688, 0.07562255, 0.11103822, 0.71674525, 0.08507381,\n",
    "       0.630128  , 0.16447478, 0.16914903, 0.1715767 , 0.08040751,\n",
    "       0.7001173 , 0.04428363, 0.19469664, 0.12247959, 0.14000294,\n",
    "       0.02411263, 0.26276603, 0.11377073, 0.07055441, 0.2021157 ,\n",
    "       0.11636899, 0.90348488, 0.10191679, 0.88744523, 0.18938904])\n",
    "\n",
    "truth = np.array([1, 0, 0, 0, 1, 0, 0, 0, 0, 0, 1, 1, 0, 1, 1, 0, 1, 0, 0, 0, 1, 0,\n",
    "       0, 0, 0, 0, 0, 0, 1, 0, 1, 0, 0, 0, 0, 0, 0, 0, 0, 0, 0, 0, 0, 0,\n",
    "       0, 0, 1, 0, 1, 0])"
   ]
  },
  {
   "cell_type": "code",
   "execution_count": null,
   "metadata": {},
   "outputs": [],
   "source": [
    "def evaluate_performance(prob, truth, th):\n",
    "    conf = None\n",
    "    prec = None\n",
    "    rec = None\n",
    "    \n",
    "    # add your code here\n",
    "    \n",
    "    \n",
    "    return conf, prec, rec"
   ]
  },
  {
   "cell_type": "code",
   "execution_count": null,
   "metadata": {},
   "outputs": [],
   "source": [
    "# Test with threhold 0.5\n",
    "conf, prec, rec = evaluate_performance(prob, truth, th)"
   ]
  },
  {
   "cell_type": "code",
   "execution_count": null,
   "metadata": {},
   "outputs": [],
   "source": []
  }
 ],
 "metadata": {
  "kernelspec": {
   "display_name": "Python 3 (ipykernel)",
   "language": "python",
   "name": "python3"
  },
  "language_info": {
   "codemirror_mode": {
    "name": "ipython",
    "version": 3
   },
   "file_extension": ".py",
   "mimetype": "text/x-python",
   "name": "python",
   "nbconvert_exporter": "python",
   "pygments_lexer": "ipython3",
   "version": "3.9.7"
  }
 },
 "nbformat": 4,
 "nbformat_minor": 2
}
